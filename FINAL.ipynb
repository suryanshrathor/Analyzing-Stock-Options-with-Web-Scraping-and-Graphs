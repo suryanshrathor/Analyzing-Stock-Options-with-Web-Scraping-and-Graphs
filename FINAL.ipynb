{
 "cells": [
  {
   "cell_type": "markdown",
   "id": "e48ebea6",
   "metadata": {},
   "source": [
    "## Fetch Option chain data from NSE web site. Part-1\n"
   ]
  },
  {
   "cell_type": "markdown",
   "id": "6b42e2d5",
   "metadata": {},
   "source": [
    "### Import necessry library"
   ]
  },
  {
   "cell_type": "code",
   "execution_count": null,
   "id": "9d227a8b",
   "metadata": {},
   "outputs": [
    {
     "ename": "",
     "evalue": "",
     "output_type": "error",
     "traceback": [
      "\u001b[1;31mFailed to start the Kernel. \n",
      "Traceback (most recent call last):\n",
      "  File \"/Users/suryansh_rathore/.vscode/extensions/ms-toolsai.jupyter-2022.3.1000901801/pythonFiles/vscode_datascience_helpers/daemon/daemon_python.py\", line 54, in _decorator\n",
      "    return func(self, *args, **kwargs)\n",
      "           ^^^^^^^^^^^^^^^^^^^^^^^^^^^\n",
      "  File \"/Users/suryansh_rathore/.vscode/extensions/ms-toolsai.jupyter-2022.3.1000901801/pythonFiles/vscode_datascience_helpers/jupyter_daemon.py\", line 108, in m_exec_module_observable\n",
      "    self._start_notebook(args, cwd, env)\n",
      "  File \"/Users/suryansh_rathore/.vscode/extensions/ms-toolsai.jupyter-2022.3.1000901801/pythonFiles/vscode_datascience_helpers/jupyter_daemon.py\", line 154, in _start_notebook\n",
      "    from notebook import notebookapp as app\n",
      "ImportError: cannot import name 'notebookapp' from 'notebook' (/Library/Frameworks/Python.framework/Versions/3.12/lib/python3.12/site-packages/notebook/__init__.py)\n",
      "\n",
      "Failed to run jupyter as observable with args notebook --no-browser --notebook-dir=\"/\" --KernelManager.autorestart=False --config=/var/folders/5l/txcqzb8500xdk0clddh8n3dm0000gn/T/87a9e737-da10-45d1-8f34-db5f0c47a4e9/jupyter_notebook_config.py --NotebookApp.iopub_data_rate_limit=10000000000.0. \n",
      "View Jupyter <a href='command:jupyter.viewOutput'>log</a> for further details."
     ]
    }
   ],
   "source": [
    "import requests\n",
    "import json\n",
    "import pandas as pd"
   ]
  },
  {
   "cell_type": "markdown",
   "id": "31ff01f6",
   "metadata": {},
   "source": [
    "#### Set url tp scrap option chain data \n",
    "As of now here symbol is set as 'NIFTY' , this can be change for other symbpls as well e.g FINNIFTY or BANKNIFTY etc.\n",
    "header setting also require else response will hang"
   ]
  },
  {
   "cell_type": "code",
   "execution_count": null,
   "id": "0f2aa3ad",
   "metadata": {},
   "outputs": [
    {
     "ename": "",
     "evalue": "",
     "output_type": "error",
     "traceback": [
      "\u001b[1;31mFailed to start the Kernel. \n",
      "Traceback (most recent call last):\n",
      "  File \"/Users/suryansh_rathore/.vscode/extensions/ms-toolsai.jupyter-2022.3.1000901801/pythonFiles/vscode_datascience_helpers/daemon/daemon_python.py\", line 54, in _decorator\n",
      "    return func(self, *args, **kwargs)\n",
      "           ^^^^^^^^^^^^^^^^^^^^^^^^^^^\n",
      "  File \"/Users/suryansh_rathore/.vscode/extensions/ms-toolsai.jupyter-2022.3.1000901801/pythonFiles/vscode_datascience_helpers/jupyter_daemon.py\", line 108, in m_exec_module_observable\n",
      "    self._start_notebook(args, cwd, env)\n",
      "  File \"/Users/suryansh_rathore/.vscode/extensions/ms-toolsai.jupyter-2022.3.1000901801/pythonFiles/vscode_datascience_helpers/jupyter_daemon.py\", line 154, in _start_notebook\n",
      "    from notebook import notebookapp as app\n",
      "ImportError: cannot import name 'notebookapp' from 'notebook' (/Library/Frameworks/Python.framework/Versions/3.12/lib/python3.12/site-packages/notebook/__init__.py)\n",
      "\n",
      "Failed to run jupyter as observable with args notebook --no-browser --notebook-dir=\"/\" --KernelManager.autorestart=False --config=/var/folders/5l/txcqzb8500xdk0clddh8n3dm0000gn/T/fa1bbe74-0cac-4bbe-9aea-0397954f0798/jupyter_notebook_config.py --NotebookApp.iopub_data_rate_limit=10000000000.0. \n",
      "View Jupyter <a href='command:jupyter.viewOutput'>log</a> for further details."
     ]
    }
   ],
   "source": [
    "url = 'https://www.nseindia.com/api/option-chain-indices?symbol=NIFTY'\n",
    "headers={'user-agent' : 'Mozilla/5.0 (Windows NT 10.0; Win64; x64) AppleWebKit/537.36 (KHTML, like Gecko) Chrome/100.0.4896.127 Safari/537.36'}"
   ]
  },
  {
   "cell_type": "markdown",
   "id": "ca3ff70f",
   "metadata": {},
   "source": [
    "#### Using requests library, get the data. \n",
    "Parameters are url and header. timeout is set to 10 seconds in case due to network issue there is delay in response "
   ]
  },
  {
   "cell_type": "code",
   "execution_count": null,
   "id": "c9e4c270",
   "metadata": {},
   "outputs": [
    {
     "ename": "",
     "evalue": "",
     "output_type": "error",
     "traceback": [
      "\u001b[1;31mFailed to start the Kernel. \n",
      "Traceback (most recent call last):\n",
      "  File \"/Users/suryansh_rathore/.vscode/extensions/ms-toolsai.jupyter-2022.3.1000901801/pythonFiles/vscode_datascience_helpers/daemon/daemon_python.py\", line 54, in _decorator\n",
      "    return func(self, *args, **kwargs)\n",
      "           ^^^^^^^^^^^^^^^^^^^^^^^^^^^\n",
      "  File \"/Users/suryansh_rathore/.vscode/extensions/ms-toolsai.jupyter-2022.3.1000901801/pythonFiles/vscode_datascience_helpers/jupyter_daemon.py\", line 108, in m_exec_module_observable\n",
      "    self._start_notebook(args, cwd, env)\n",
      "  File \"/Users/suryansh_rathore/.vscode/extensions/ms-toolsai.jupyter-2022.3.1000901801/pythonFiles/vscode_datascience_helpers/jupyter_daemon.py\", line 154, in _start_notebook\n",
      "    from notebook import notebookapp as app\n",
      "ImportError: cannot import name 'notebookapp' from 'notebook' (/Library/Frameworks/Python.framework/Versions/3.12/lib/python3.12/site-packages/notebook/__init__.py)\n",
      "\n",
      "Failed to run jupyter as observable with args notebook --no-browser --notebook-dir=\"/\" --KernelManager.autorestart=False --config=/var/folders/5l/txcqzb8500xdk0clddh8n3dm0000gn/T/fa1bbe74-0cac-4bbe-9aea-0397954f0798/jupyter_notebook_config.py --NotebookApp.iopub_data_rate_limit=10000000000.0. \n",
      "View Jupyter <a href='command:jupyter.viewOutput'>log</a> for further details."
     ]
    }
   ],
   "source": [
    "response = requests.get(url, headers=headers, timeout=10)\n",
    "\n",
    "response_text=response.text\n",
    "json_object = json.loads(response_text)"
   ]
  },
  {
   "cell_type": "code",
   "execution_count": null,
   "id": "51e2f149",
   "metadata": {},
   "outputs": [
    {
     "ename": "",
     "evalue": "",
     "output_type": "error",
     "traceback": [
      "\u001b[1;31mFailed to start the Kernel. \n",
      "Traceback (most recent call last):\n",
      "  File \"/Users/suryansh_rathore/.vscode/extensions/ms-toolsai.jupyter-2022.3.1000901801/pythonFiles/vscode_datascience_helpers/daemon/daemon_python.py\", line 54, in _decorator\n",
      "    return func(self, *args, **kwargs)\n",
      "           ^^^^^^^^^^^^^^^^^^^^^^^^^^^\n",
      "  File \"/Users/suryansh_rathore/.vscode/extensions/ms-toolsai.jupyter-2022.3.1000901801/pythonFiles/vscode_datascience_helpers/jupyter_daemon.py\", line 108, in m_exec_module_observable\n",
      "    self._start_notebook(args, cwd, env)\n",
      "  File \"/Users/suryansh_rathore/.vscode/extensions/ms-toolsai.jupyter-2022.3.1000901801/pythonFiles/vscode_datascience_helpers/jupyter_daemon.py\", line 154, in _start_notebook\n",
      "    from notebook import notebookapp as app\n",
      "ImportError: cannot import name 'notebookapp' from 'notebook' (/Library/Frameworks/Python.framework/Versions/3.12/lib/python3.12/site-packages/notebook/__init__.py)\n",
      "\n",
      "Failed to run jupyter as observable with args notebook --no-browser --notebook-dir=\"/\" --KernelManager.autorestart=False --config=/var/folders/5l/txcqzb8500xdk0clddh8n3dm0000gn/T/fa1bbe74-0cac-4bbe-9aea-0397954f0798/jupyter_notebook_config.py --NotebookApp.iopub_data_rate_limit=10000000000.0. \n",
      "View Jupyter <a href='command:jupyter.viewOutput'>log</a> for further details."
     ]
    }
   ],
   "source": [
    "json_object"
   ]
  },
  {
   "cell_type": "markdown",
   "id": "ffe47f78",
   "metadata": {},
   "source": [
    "## Fetch Option chain data from NSE web site. Part-2"
   ]
  },
  {
   "cell_type": "markdown",
   "id": "a4fc00aa",
   "metadata": {},
   "source": [
    "#### Set the expiry date"
   ]
  },
  {
   "cell_type": "code",
   "execution_count": null,
   "id": "684d03fe",
   "metadata": {},
   "outputs": [
    {
     "ename": "",
     "evalue": "",
     "output_type": "error",
     "traceback": [
      "\u001b[1;31mFailed to start the Kernel. \n",
      "Traceback (most recent call last):\n",
      "  File \"/Users/suryansh_rathore/.vscode/extensions/ms-toolsai.jupyter-2022.3.1000901801/pythonFiles/vscode_datascience_helpers/daemon/daemon_python.py\", line 54, in _decorator\n",
      "    return func(self, *args, **kwargs)\n",
      "           ^^^^^^^^^^^^^^^^^^^^^^^^^^^\n",
      "  File \"/Users/suryansh_rathore/.vscode/extensions/ms-toolsai.jupyter-2022.3.1000901801/pythonFiles/vscode_datascience_helpers/jupyter_daemon.py\", line 108, in m_exec_module_observable\n",
      "    self._start_notebook(args, cwd, env)\n",
      "  File \"/Users/suryansh_rathore/.vscode/extensions/ms-toolsai.jupyter-2022.3.1000901801/pythonFiles/vscode_datascience_helpers/jupyter_daemon.py\", line 154, in _start_notebook\n",
      "    from notebook import notebookapp as app\n",
      "ImportError: cannot import name 'notebookapp' from 'notebook' (/Library/Frameworks/Python.framework/Versions/3.12/lib/python3.12/site-packages/notebook/__init__.py)\n",
      "\n",
      "Failed to run jupyter as observable with args notebook --no-browser --notebook-dir=\"/\" --KernelManager.autorestart=False --config=/var/folders/5l/txcqzb8500xdk0clddh8n3dm0000gn/T/fa1bbe74-0cac-4bbe-9aea-0397954f0798/jupyter_notebook_config.py --NotebookApp.iopub_data_rate_limit=10000000000.0. \n",
      "View Jupyter <a href='command:jupyter.viewOutput'>log</a> for further details."
     ]
    }
   ],
   "source": [
    "expiry_date = '31-Dec-2026'"
   ]
  },
  {
   "cell_type": "code",
   "execution_count": null,
   "id": "819c8265",
   "metadata": {},
   "outputs": [
    {
     "ename": "",
     "evalue": "",
     "output_type": "error",
     "traceback": [
      "\u001b[1;31mFailed to start the Kernel. \n",
      "Traceback (most recent call last):\n",
      "  File \"/Users/suryansh_rathore/.vscode/extensions/ms-toolsai.jupyter-2022.3.1000901801/pythonFiles/vscode_datascience_helpers/daemon/daemon_python.py\", line 54, in _decorator\n",
      "    return func(self, *args, **kwargs)\n",
      "           ^^^^^^^^^^^^^^^^^^^^^^^^^^^\n",
      "  File \"/Users/suryansh_rathore/.vscode/extensions/ms-toolsai.jupyter-2022.3.1000901801/pythonFiles/vscode_datascience_helpers/jupyter_daemon.py\", line 108, in m_exec_module_observable\n",
      "    self._start_notebook(args, cwd, env)\n",
      "  File \"/Users/suryansh_rathore/.vscode/extensions/ms-toolsai.jupyter-2022.3.1000901801/pythonFiles/vscode_datascience_helpers/jupyter_daemon.py\", line 154, in _start_notebook\n",
      "    from notebook import notebookapp as app\n",
      "ImportError: cannot import name 'notebookapp' from 'notebook' (/Library/Frameworks/Python.framework/Versions/3.12/lib/python3.12/site-packages/notebook/__init__.py)\n",
      "\n",
      "Failed to run jupyter as observable with args notebook --no-browser --notebook-dir=\"/\" --KernelManager.autorestart=False --config=/var/folders/5l/txcqzb8500xdk0clddh8n3dm0000gn/T/fa1bbe74-0cac-4bbe-9aea-0397954f0798/jupyter_notebook_config.py --NotebookApp.iopub_data_rate_limit=10000000000.0. \n",
      "View Jupyter <a href='command:jupyter.viewOutput'>log</a> for further details."
     ]
    }
   ],
   "source": [
    "def set_decimal(x):\n",
    "    return ('%.2f' % x).rstrip('0').rstrip('.')"
   ]
  },
  {
   "cell_type": "code",
   "execution_count": null,
   "id": "1e7ce9ad",
   "metadata": {},
   "outputs": [
    {
     "ename": "",
     "evalue": "",
     "output_type": "error",
     "traceback": [
      "\u001b[1;31mFailed to start the Kernel. \n",
      "Traceback (most recent call last):\n",
      "  File \"/Users/suryansh_rathore/.vscode/extensions/ms-toolsai.jupyter-2022.3.1000901801/pythonFiles/vscode_datascience_helpers/daemon/daemon_python.py\", line 54, in _decorator\n",
      "    return func(self, *args, **kwargs)\n",
      "           ^^^^^^^^^^^^^^^^^^^^^^^^^^^\n",
      "  File \"/Users/suryansh_rathore/.vscode/extensions/ms-toolsai.jupyter-2022.3.1000901801/pythonFiles/vscode_datascience_helpers/jupyter_daemon.py\", line 108, in m_exec_module_observable\n",
      "    self._start_notebook(args, cwd, env)\n",
      "  File \"/Users/suryansh_rathore/.vscode/extensions/ms-toolsai.jupyter-2022.3.1000901801/pythonFiles/vscode_datascience_helpers/jupyter_daemon.py\", line 154, in _start_notebook\n",
      "    from notebook import notebookapp as app\n",
      "ImportError: cannot import name 'notebookapp' from 'notebook' (/Library/Frameworks/Python.framework/Versions/3.12/lib/python3.12/site-packages/notebook/__init__.py)\n",
      "\n",
      "Failed to run jupyter as observable with args notebook --no-browser --notebook-dir=\"/\" --KernelManager.autorestart=False --config=/var/folders/5l/txcqzb8500xdk0clddh8n3dm0000gn/T/fa1bbe74-0cac-4bbe-9aea-0397954f0798/jupyter_notebook_config.py --NotebookApp.iopub_data_rate_limit=10000000000.0. \n",
      "View Jupyter <a href='command:jupyter.viewOutput'>log</a> for further details."
     ]
    }
   ],
   "source": [
    "set_decimal(10.234567)"
   ]
  },
  {
   "cell_type": "code",
   "execution_count": null,
   "id": "ecc9bf04",
   "metadata": {},
   "outputs": [
    {
     "ename": "",
     "evalue": "",
     "output_type": "error",
     "traceback": [
      "\u001b[1;31mFailed to start the Kernel. \n",
      "Traceback (most recent call last):\n",
      "  File \"/Users/suryansh_rathore/.vscode/extensions/ms-toolsai.jupyter-2022.3.1000901801/pythonFiles/vscode_datascience_helpers/daemon/daemon_python.py\", line 54, in _decorator\n",
      "    return func(self, *args, **kwargs)\n",
      "           ^^^^^^^^^^^^^^^^^^^^^^^^^^^\n",
      "  File \"/Users/suryansh_rathore/.vscode/extensions/ms-toolsai.jupyter-2022.3.1000901801/pythonFiles/vscode_datascience_helpers/jupyter_daemon.py\", line 108, in m_exec_module_observable\n",
      "    self._start_notebook(args, cwd, env)\n",
      "  File \"/Users/suryansh_rathore/.vscode/extensions/ms-toolsai.jupyter-2022.3.1000901801/pythonFiles/vscode_datascience_helpers/jupyter_daemon.py\", line 154, in _start_notebook\n",
      "    from notebook import notebookapp as app\n",
      "ImportError: cannot import name 'notebookapp' from 'notebook' (/Library/Frameworks/Python.framework/Versions/3.12/lib/python3.12/site-packages/notebook/__init__.py)\n",
      "\n",
      "Failed to run jupyter as observable with args notebook --no-browser --notebook-dir=\"/\" --KernelManager.autorestart=False --config=/var/folders/5l/txcqzb8500xdk0clddh8n3dm0000gn/T/fa1bbe74-0cac-4bbe-9aea-0397954f0798/jupyter_notebook_config.py --NotebookApp.iopub_data_rate_limit=10000000000.0. \n",
      "View Jupyter <a href='command:jupyter.viewOutput'>log</a> for further details."
     ]
    }
   ],
   "source": [
    "data = json_object['records']['data']"
   ]
  },
  {
   "cell_type": "code",
   "execution_count": null,
   "id": "3443103a",
   "metadata": {},
   "outputs": [
    {
     "ename": "",
     "evalue": "",
     "output_type": "error",
     "traceback": [
      "\u001b[1;31mFailed to start the Kernel. \n",
      "Traceback (most recent call last):\n",
      "  File \"/Users/suryansh_rathore/.vscode/extensions/ms-toolsai.jupyter-2022.3.1000901801/pythonFiles/vscode_datascience_helpers/daemon/daemon_python.py\", line 54, in _decorator\n",
      "    return func(self, *args, **kwargs)\n",
      "           ^^^^^^^^^^^^^^^^^^^^^^^^^^^\n",
      "  File \"/Users/suryansh_rathore/.vscode/extensions/ms-toolsai.jupyter-2022.3.1000901801/pythonFiles/vscode_datascience_helpers/jupyter_daemon.py\", line 108, in m_exec_module_observable\n",
      "    self._start_notebook(args, cwd, env)\n",
      "  File \"/Users/suryansh_rathore/.vscode/extensions/ms-toolsai.jupyter-2022.3.1000901801/pythonFiles/vscode_datascience_helpers/jupyter_daemon.py\", line 154, in _start_notebook\n",
      "    from notebook import notebookapp as app\n",
      "ImportError: cannot import name 'notebookapp' from 'notebook' (/Library/Frameworks/Python.framework/Versions/3.12/lib/python3.12/site-packages/notebook/__init__.py)\n",
      "\n",
      "Failed to run jupyter as observable with args notebook --no-browser --notebook-dir=\"/\" --KernelManager.autorestart=False --config=/var/folders/5l/txcqzb8500xdk0clddh8n3dm0000gn/T/fa1bbe74-0cac-4bbe-9aea-0397954f0798/jupyter_notebook_config.py --NotebookApp.iopub_data_rate_limit=10000000000.0. \n",
      "View Jupyter <a href='command:jupyter.viewOutput'>log</a> for further details."
     ]
    }
   ],
   "source": [
    "len(data)"
   ]
  },
  {
   "cell_type": "code",
   "execution_count": null,
   "id": "278a0383",
   "metadata": {},
   "outputs": [
    {
     "ename": "",
     "evalue": "",
     "output_type": "error",
     "traceback": [
      "\u001b[1;31mFailed to start the Kernel. \n",
      "Traceback (most recent call last):\n",
      "  File \"/Users/suryansh_rathore/.vscode/extensions/ms-toolsai.jupyter-2022.3.1000901801/pythonFiles/vscode_datascience_helpers/daemon/daemon_python.py\", line 54, in _decorator\n",
      "    return func(self, *args, **kwargs)\n",
      "           ^^^^^^^^^^^^^^^^^^^^^^^^^^^\n",
      "  File \"/Users/suryansh_rathore/.vscode/extensions/ms-toolsai.jupyter-2022.3.1000901801/pythonFiles/vscode_datascience_helpers/jupyter_daemon.py\", line 108, in m_exec_module_observable\n",
      "    self._start_notebook(args, cwd, env)\n",
      "  File \"/Users/suryansh_rathore/.vscode/extensions/ms-toolsai.jupyter-2022.3.1000901801/pythonFiles/vscode_datascience_helpers/jupyter_daemon.py\", line 154, in _start_notebook\n",
      "    from notebook import notebookapp as app\n",
      "ImportError: cannot import name 'notebookapp' from 'notebook' (/Library/Frameworks/Python.framework/Versions/3.12/lib/python3.12/site-packages/notebook/__init__.py)\n",
      "\n",
      "Failed to run jupyter as observable with args notebook --no-browser --notebook-dir=\"/\" --KernelManager.autorestart=False --config=/var/folders/5l/txcqzb8500xdk0clddh8n3dm0000gn/T/fa1bbe74-0cac-4bbe-9aea-0397954f0798/jupyter_notebook_config.py --NotebookApp.iopub_data_rate_limit=10000000000.0. \n",
      "View Jupyter <a href='command:jupyter.viewOutput'>log</a> for further details."
     ]
    }
   ],
   "source": [
    "e_date=json_object['records']['expiryDates']"
   ]
  },
  {
   "cell_type": "code",
   "execution_count": null,
   "id": "42ed0114",
   "metadata": {},
   "outputs": [
    {
     "ename": "",
     "evalue": "",
     "output_type": "error",
     "traceback": [
      "\u001b[1;31mFailed to start the Kernel. \n",
      "Traceback (most recent call last):\n",
      "  File \"/Users/suryansh_rathore/.vscode/extensions/ms-toolsai.jupyter-2022.3.1000901801/pythonFiles/vscode_datascience_helpers/daemon/daemon_python.py\", line 54, in _decorator\n",
      "    return func(self, *args, **kwargs)\n",
      "           ^^^^^^^^^^^^^^^^^^^^^^^^^^^\n",
      "  File \"/Users/suryansh_rathore/.vscode/extensions/ms-toolsai.jupyter-2022.3.1000901801/pythonFiles/vscode_datascience_helpers/jupyter_daemon.py\", line 108, in m_exec_module_observable\n",
      "    self._start_notebook(args, cwd, env)\n",
      "  File \"/Users/suryansh_rathore/.vscode/extensions/ms-toolsai.jupyter-2022.3.1000901801/pythonFiles/vscode_datascience_helpers/jupyter_daemon.py\", line 154, in _start_notebook\n",
      "    from notebook import notebookapp as app\n",
      "ImportError: cannot import name 'notebookapp' from 'notebook' (/Library/Frameworks/Python.framework/Versions/3.12/lib/python3.12/site-packages/notebook/__init__.py)\n",
      "\n",
      "Failed to run jupyter as observable with args notebook --no-browser --notebook-dir=\"/\" --KernelManager.autorestart=False --config=/var/folders/5l/txcqzb8500xdk0clddh8n3dm0000gn/T/fa1bbe74-0cac-4bbe-9aea-0397954f0798/jupyter_notebook_config.py --NotebookApp.iopub_data_rate_limit=10000000000.0. \n",
      "View Jupyter <a href='command:jupyter.viewOutput'>log</a> for further details."
     ]
    }
   ],
   "source": [
    "e_date"
   ]
  },
  {
   "cell_type": "code",
   "execution_count": null,
   "id": "b08e7000",
   "metadata": {},
   "outputs": [
    {
     "ename": "",
     "evalue": "",
     "output_type": "error",
     "traceback": [
      "\u001b[1;31mFailed to start the Kernel. \n",
      "Traceback (most recent call last):\n",
      "  File \"/Users/suryansh_rathore/.vscode/extensions/ms-toolsai.jupyter-2022.3.1000901801/pythonFiles/vscode_datascience_helpers/daemon/daemon_python.py\", line 54, in _decorator\n",
      "    return func(self, *args, **kwargs)\n",
      "           ^^^^^^^^^^^^^^^^^^^^^^^^^^^\n",
      "  File \"/Users/suryansh_rathore/.vscode/extensions/ms-toolsai.jupyter-2022.3.1000901801/pythonFiles/vscode_datascience_helpers/jupyter_daemon.py\", line 108, in m_exec_module_observable\n",
      "    self._start_notebook(args, cwd, env)\n",
      "  File \"/Users/suryansh_rathore/.vscode/extensions/ms-toolsai.jupyter-2022.3.1000901801/pythonFiles/vscode_datascience_helpers/jupyter_daemon.py\", line 154, in _start_notebook\n",
      "    from notebook import notebookapp as app\n",
      "ImportError: cannot import name 'notebookapp' from 'notebook' (/Library/Frameworks/Python.framework/Versions/3.12/lib/python3.12/site-packages/notebook/__init__.py)\n",
      "\n",
      "Failed to run jupyter as observable with args notebook --no-browser --notebook-dir=\"/\" --KernelManager.autorestart=False --config=/var/folders/5l/txcqzb8500xdk0clddh8n3dm0000gn/T/fa1bbe74-0cac-4bbe-9aea-0397954f0798/jupyter_notebook_config.py --NotebookApp.iopub_data_rate_limit=10000000000.0. \n",
      "View Jupyter <a href='command:jupyter.viewOutput'>log</a> for further details."
     ]
    }
   ],
   "source": [
    "oc_data = {}\n",
    "for ed in e_date:\n",
    "    oc_data[ed]={\"CE\":[], \"PE\":[]}\n",
    "    for di in range(len(data)):\n",
    "        \n",
    "        if data[di]['expiryDate'] == ed:\n",
    "            if 'CE' in data[di].keys() and data[di]['CE']['expiryDate'] == ed:                \n",
    "                oc_data[ed][\"CE\"].append(data[di]['CE'])\n",
    "            else:\n",
    "                oc_data[ed][\"CE\"].append('-')\n",
    "\n",
    "            if 'PE' in data[di].keys() and data[di]['PE']['expiryDate'] == ed:\n",
    "                oc_data[ed][\"PE\"].append(data[di]['PE'])\n",
    "                \n",
    "            else:\n",
    "                oc_data[ed][\"PE\"].append('-')"
   ]
  },
  {
   "cell_type": "code",
   "execution_count": null,
   "id": "0c7db359",
   "metadata": {},
   "outputs": [
    {
     "ename": "",
     "evalue": "",
     "output_type": "error",
     "traceback": [
      "\u001b[1;31mFailed to start the Kernel. \n",
      "Traceback (most recent call last):\n",
      "  File \"/Users/suryansh_rathore/.vscode/extensions/ms-toolsai.jupyter-2022.3.1000901801/pythonFiles/vscode_datascience_helpers/daemon/daemon_python.py\", line 54, in _decorator\n",
      "    return func(self, *args, **kwargs)\n",
      "           ^^^^^^^^^^^^^^^^^^^^^^^^^^^\n",
      "  File \"/Users/suryansh_rathore/.vscode/extensions/ms-toolsai.jupyter-2022.3.1000901801/pythonFiles/vscode_datascience_helpers/jupyter_daemon.py\", line 108, in m_exec_module_observable\n",
      "    self._start_notebook(args, cwd, env)\n",
      "  File \"/Users/suryansh_rathore/.vscode/extensions/ms-toolsai.jupyter-2022.3.1000901801/pythonFiles/vscode_datascience_helpers/jupyter_daemon.py\", line 154, in _start_notebook\n",
      "    from notebook import notebookapp as app\n",
      "ImportError: cannot import name 'notebookapp' from 'notebook' (/Library/Frameworks/Python.framework/Versions/3.12/lib/python3.12/site-packages/notebook/__init__.py)\n",
      "\n",
      "Failed to run jupyter as observable with args notebook --no-browser --notebook-dir=\"/\" --KernelManager.autorestart=False --config=/var/folders/5l/txcqzb8500xdk0clddh8n3dm0000gn/T/fa1bbe74-0cac-4bbe-9aea-0397954f0798/jupyter_notebook_config.py --NotebookApp.iopub_data_rate_limit=10000000000.0. \n",
      "View Jupyter <a href='command:jupyter.viewOutput'>log</a> for further details."
     ]
    }
   ],
   "source": [
    "oc_data"
   ]
  },
  {
   "cell_type": "code",
   "execution_count": null,
   "id": "34a11887",
   "metadata": {},
   "outputs": [
    {
     "ename": "",
     "evalue": "",
     "output_type": "error",
     "traceback": [
      "\u001b[1;31mFailed to start the Kernel. \n",
      "Traceback (most recent call last):\n",
      "  File \"/Users/suryansh_rathore/.vscode/extensions/ms-toolsai.jupyter-2022.3.1000901801/pythonFiles/vscode_datascience_helpers/daemon/daemon_python.py\", line 54, in _decorator\n",
      "    return func(self, *args, **kwargs)\n",
      "           ^^^^^^^^^^^^^^^^^^^^^^^^^^^\n",
      "  File \"/Users/suryansh_rathore/.vscode/extensions/ms-toolsai.jupyter-2022.3.1000901801/pythonFiles/vscode_datascience_helpers/jupyter_daemon.py\", line 108, in m_exec_module_observable\n",
      "    self._start_notebook(args, cwd, env)\n",
      "  File \"/Users/suryansh_rathore/.vscode/extensions/ms-toolsai.jupyter-2022.3.1000901801/pythonFiles/vscode_datascience_helpers/jupyter_daemon.py\", line 154, in _start_notebook\n",
      "    from notebook import notebookapp as app\n",
      "ImportError: cannot import name 'notebookapp' from 'notebook' (/Library/Frameworks/Python.framework/Versions/3.12/lib/python3.12/site-packages/notebook/__init__.py)\n",
      "\n",
      "Failed to run jupyter as observable with args notebook --no-browser --notebook-dir=\"/\" --KernelManager.autorestart=False --config=/var/folders/5l/txcqzb8500xdk0clddh8n3dm0000gn/T/fa1bbe74-0cac-4bbe-9aea-0397954f0798/jupyter_notebook_config.py --NotebookApp.iopub_data_rate_limit=10000000000.0. \n",
      "View Jupyter <a href='command:jupyter.viewOutput'>log</a> for further details."
     ]
    }
   ],
   "source": [
    "keys_to_exclude = [\n",
    "                    'pchangeinOpenInterest', \n",
    "                    'totalBuyQuantity', \n",
    "                    'totalSellQuantity', \n",
    "                    'underlyingValue',\n",
    "                    'expiryDate',\n",
    "                    'underlying',\n",
    "                    'identifier',\n",
    "                    'pChange'\n",
    "]"
   ]
  },
  {
   "cell_type": "code",
   "execution_count": null,
   "id": "a64035c1",
   "metadata": {},
   "outputs": [
    {
     "ename": "",
     "evalue": "",
     "output_type": "error",
     "traceback": [
      "\u001b[1;31mFailed to start the Kernel. \n",
      "Traceback (most recent call last):\n",
      "  File \"/Users/suryansh_rathore/.vscode/extensions/ms-toolsai.jupyter-2022.3.1000901801/pythonFiles/vscode_datascience_helpers/daemon/daemon_python.py\", line 54, in _decorator\n",
      "    return func(self, *args, **kwargs)\n",
      "           ^^^^^^^^^^^^^^^^^^^^^^^^^^^\n",
      "  File \"/Users/suryansh_rathore/.vscode/extensions/ms-toolsai.jupyter-2022.3.1000901801/pythonFiles/vscode_datascience_helpers/jupyter_daemon.py\", line 108, in m_exec_module_observable\n",
      "    self._start_notebook(args, cwd, env)\n",
      "  File \"/Users/suryansh_rathore/.vscode/extensions/ms-toolsai.jupyter-2022.3.1000901801/pythonFiles/vscode_datascience_helpers/jupyter_daemon.py\", line 154, in _start_notebook\n",
      "    from notebook import notebookapp as app\n",
      "ImportError: cannot import name 'notebookapp' from 'notebook' (/Library/Frameworks/Python.framework/Versions/3.12/lib/python3.12/site-packages/notebook/__init__.py)\n",
      "\n",
      "Failed to run jupyter as observable with args notebook --no-browser --notebook-dir=\"/\" --KernelManager.autorestart=False --config=/var/folders/5l/txcqzb8500xdk0clddh8n3dm0000gn/T/fa1bbe74-0cac-4bbe-9aea-0397954f0798/jupyter_notebook_config.py --NotebookApp.iopub_data_rate_limit=10000000000.0. \n",
      "View Jupyter <a href='command:jupyter.viewOutput'>log</a> for further details."
     ]
    }
   ],
   "source": [
    "oc_data_dt=oc_data[expiry_date]\n",
    "\n",
    "CE=list(oc_data_dt['CE'])\n",
    "PE=list(oc_data_dt['PE'])\n"
   ]
  },
  {
   "cell_type": "code",
   "execution_count": null,
   "id": "eea18dae",
   "metadata": {},
   "outputs": [
    {
     "ename": "",
     "evalue": "",
     "output_type": "error",
     "traceback": [
      "\u001b[1;31mFailed to start the Kernel. \n",
      "Traceback (most recent call last):\n",
      "  File \"/Users/suryansh_rathore/.vscode/extensions/ms-toolsai.jupyter-2022.3.1000901801/pythonFiles/vscode_datascience_helpers/daemon/daemon_python.py\", line 54, in _decorator\n",
      "    return func(self, *args, **kwargs)\n",
      "           ^^^^^^^^^^^^^^^^^^^^^^^^^^^\n",
      "  File \"/Users/suryansh_rathore/.vscode/extensions/ms-toolsai.jupyter-2022.3.1000901801/pythonFiles/vscode_datascience_helpers/jupyter_daemon.py\", line 108, in m_exec_module_observable\n",
      "    self._start_notebook(args, cwd, env)\n",
      "  File \"/Users/suryansh_rathore/.vscode/extensions/ms-toolsai.jupyter-2022.3.1000901801/pythonFiles/vscode_datascience_helpers/jupyter_daemon.py\", line 154, in _start_notebook\n",
      "    from notebook import notebookapp as app\n",
      "ImportError: cannot import name 'notebookapp' from 'notebook' (/Library/Frameworks/Python.framework/Versions/3.12/lib/python3.12/site-packages/notebook/__init__.py)\n",
      "\n",
      "Failed to run jupyter as observable with args notebook --no-browser --notebook-dir=\"/\" --KernelManager.autorestart=False --config=/var/folders/5l/txcqzb8500xdk0clddh8n3dm0000gn/T/fa1bbe74-0cac-4bbe-9aea-0397954f0798/jupyter_notebook_config.py --NotebookApp.iopub_data_rate_limit=10000000000.0. \n",
      "View Jupyter <a href='command:jupyter.viewOutput'>log</a> for further details."
     ]
    }
   ],
   "source": [
    "for i in range(len(CE)):\n",
    "    if CE[i] != '-':\n",
    "        for key in keys_to_exclude:\n",
    "            del CE[i][key]\n",
    "\n",
    "    if PE[i] != '-':\n",
    "        for key in keys_to_exclude:\n",
    "            del PE[i][key]\n"
   ]
  },
  {
   "cell_type": "code",
   "execution_count": null,
   "id": "24482e65",
   "metadata": {},
   "outputs": [
    {
     "ename": "",
     "evalue": "",
     "output_type": "error",
     "traceback": [
      "\u001b[1;31mFailed to start the Kernel. \n",
      "Traceback (most recent call last):\n",
      "  File \"/Users/suryansh_rathore/.vscode/extensions/ms-toolsai.jupyter-2022.3.1000901801/pythonFiles/vscode_datascience_helpers/daemon/daemon_python.py\", line 54, in _decorator\n",
      "    return func(self, *args, **kwargs)\n",
      "           ^^^^^^^^^^^^^^^^^^^^^^^^^^^\n",
      "  File \"/Users/suryansh_rathore/.vscode/extensions/ms-toolsai.jupyter-2022.3.1000901801/pythonFiles/vscode_datascience_helpers/jupyter_daemon.py\", line 108, in m_exec_module_observable\n",
      "    self._start_notebook(args, cwd, env)\n",
      "  File \"/Users/suryansh_rathore/.vscode/extensions/ms-toolsai.jupyter-2022.3.1000901801/pythonFiles/vscode_datascience_helpers/jupyter_daemon.py\", line 154, in _start_notebook\n",
      "    from notebook import notebookapp as app\n",
      "ImportError: cannot import name 'notebookapp' from 'notebook' (/Library/Frameworks/Python.framework/Versions/3.12/lib/python3.12/site-packages/notebook/__init__.py)\n",
      "\n",
      "Failed to run jupyter as observable with args notebook --no-browser --notebook-dir=\"/\" --KernelManager.autorestart=False --config=/var/folders/5l/txcqzb8500xdk0clddh8n3dm0000gn/T/fa1bbe74-0cac-4bbe-9aea-0397954f0798/jupyter_notebook_config.py --NotebookApp.iopub_data_rate_limit=10000000000.0. \n",
      "View Jupyter <a href='command:jupyter.viewOutput'>log</a> for further details."
     ]
    }
   ],
   "source": [
    "CE[0]"
   ]
  },
  {
   "cell_type": "code",
   "execution_count": null,
   "id": "edb52a9d",
   "metadata": {},
   "outputs": [
    {
     "ename": "",
     "evalue": "",
     "output_type": "error",
     "traceback": [
      "\u001b[1;31mFailed to start the Kernel. \n",
      "Traceback (most recent call last):\n",
      "  File \"/Users/suryansh_rathore/.vscode/extensions/ms-toolsai.jupyter-2022.3.1000901801/pythonFiles/vscode_datascience_helpers/daemon/daemon_python.py\", line 54, in _decorator\n",
      "    return func(self, *args, **kwargs)\n",
      "           ^^^^^^^^^^^^^^^^^^^^^^^^^^^\n",
      "  File \"/Users/suryansh_rathore/.vscode/extensions/ms-toolsai.jupyter-2022.3.1000901801/pythonFiles/vscode_datascience_helpers/jupyter_daemon.py\", line 108, in m_exec_module_observable\n",
      "    self._start_notebook(args, cwd, env)\n",
      "  File \"/Users/suryansh_rathore/.vscode/extensions/ms-toolsai.jupyter-2022.3.1000901801/pythonFiles/vscode_datascience_helpers/jupyter_daemon.py\", line 154, in _start_notebook\n",
      "    from notebook import notebookapp as app\n",
      "ImportError: cannot import name 'notebookapp' from 'notebook' (/Library/Frameworks/Python.framework/Versions/3.12/lib/python3.12/site-packages/notebook/__init__.py)\n",
      "\n",
      "Failed to run jupyter as observable with args notebook --no-browser --notebook-dir=\"/\" --KernelManager.autorestart=False --config=/var/folders/5l/txcqzb8500xdk0clddh8n3dm0000gn/T/fa1bbe74-0cac-4bbe-9aea-0397954f0798/jupyter_notebook_config.py --NotebookApp.iopub_data_rate_limit=10000000000.0. \n",
      "View Jupyter <a href='command:jupyter.viewOutput'>log</a> for further details."
     ]
    }
   ],
   "source": [
    "PE[0]"
   ]
  },
  {
   "cell_type": "code",
   "execution_count": null,
   "id": "1bb42492",
   "metadata": {},
   "outputs": [
    {
     "ename": "",
     "evalue": "",
     "output_type": "error",
     "traceback": [
      "\u001b[1;31mFailed to start the Kernel. \n",
      "Traceback (most recent call last):\n",
      "  File \"/Users/suryansh_rathore/.vscode/extensions/ms-toolsai.jupyter-2022.3.1000901801/pythonFiles/vscode_datascience_helpers/daemon/daemon_python.py\", line 54, in _decorator\n",
      "    return func(self, *args, **kwargs)\n",
      "           ^^^^^^^^^^^^^^^^^^^^^^^^^^^\n",
      "  File \"/Users/suryansh_rathore/.vscode/extensions/ms-toolsai.jupyter-2022.3.1000901801/pythonFiles/vscode_datascience_helpers/jupyter_daemon.py\", line 108, in m_exec_module_observable\n",
      "    self._start_notebook(args, cwd, env)\n",
      "  File \"/Users/suryansh_rathore/.vscode/extensions/ms-toolsai.jupyter-2022.3.1000901801/pythonFiles/vscode_datascience_helpers/jupyter_daemon.py\", line 154, in _start_notebook\n",
      "    from notebook import notebookapp as app\n",
      "ImportError: cannot import name 'notebookapp' from 'notebook' (/Library/Frameworks/Python.framework/Versions/3.12/lib/python3.12/site-packages/notebook/__init__.py)\n",
      "\n",
      "Failed to run jupyter as observable with args notebook --no-browser --notebook-dir=\"/\" --KernelManager.autorestart=False --config=/var/folders/5l/txcqzb8500xdk0clddh8n3dm0000gn/T/fa1bbe74-0cac-4bbe-9aea-0397954f0798/jupyter_notebook_config.py --NotebookApp.iopub_data_rate_limit=10000000000.0. \n",
      "View Jupyter <a href='command:jupyter.viewOutput'>log</a> for further details."
     ]
    }
   ],
   "source": [
    "l_OC = []\n",
    "\n",
    "for i in range(len(CE)):\n",
    "    l_CE=[]\n",
    "    l_PE=[]\n",
    "\n",
    "    if CE[i] != '-':\n",
    "        sp = CE[i]['strikePrice']\n",
    "        l_CE =  [  \n",
    "                    CE[i]['openInterest'], \n",
    "                    CE[i]['changeinOpenInterest'] , \n",
    "                    CE[i]['totalTradedVolume'] , \n",
    "                    CE[i]['impliedVolatility'] , \n",
    "                    CE[i]['lastPrice'] , \n",
    "                    set_decimal(CE[i]['change']), \n",
    "                    CE[i]['bidQty']   , \n",
    "                    CE[i]['bidprice'] , \n",
    "                    CE[i]['askPrice'] ,\n",
    "                    CE[i]['askQty'] , \n",
    "                    CE[i]['strikePrice']\n",
    "                ]\n",
    "    else:\n",
    "        sp = PE[i]['strikePrice']\n",
    "        l_CE= list(['-','-','-','-','-','-','-','-','-','-',sp])\n",
    "\n",
    "    if PE[i] != '-':\n",
    "        l_PE =  [\n",
    "                    PE[i]['bidQty']   ,\n",
    "                    PE[i]['bidprice'] ,\n",
    "                    PE[i]['askPrice'] ,\n",
    "                    PE[i]['askQty'] , \n",
    "                    set_decimal(PE[i]['change']),\n",
    "                    PE[i]['lastPrice'] ,\n",
    "                    PE[i]['impliedVolatility'] ,\n",
    "                    PE[i]['totalTradedVolume'] ,\n",
    "                    PE[i]['changeinOpenInterest'] ,\n",
    "                    PE[i]['openInterest']\n",
    "        ] \n",
    "\n",
    "    else:\n",
    "        l_PE = list(['-','-','-','-','-','-','-','-','-','-'])\n",
    "    \n",
    "    \n",
    "    l_OC_t = l_CE + l_PE\n",
    "    l_OC_t[:] = [x if x != 0 else '-' for x in l_OC_t]\n",
    "\n",
    "    l_OC.append(l_OC_t)\n"
   ]
  },
  {
   "cell_type": "code",
   "execution_count": null,
   "id": "80876a47",
   "metadata": {},
   "outputs": [
    {
     "ename": "",
     "evalue": "",
     "output_type": "error",
     "traceback": [
      "\u001b[1;31mFailed to start the Kernel. \n",
      "Traceback (most recent call last):\n",
      "  File \"/Users/suryansh_rathore/.vscode/extensions/ms-toolsai.jupyter-2022.3.1000901801/pythonFiles/vscode_datascience_helpers/daemon/daemon_python.py\", line 54, in _decorator\n",
      "    return func(self, *args, **kwargs)\n",
      "           ^^^^^^^^^^^^^^^^^^^^^^^^^^^\n",
      "  File \"/Users/suryansh_rathore/.vscode/extensions/ms-toolsai.jupyter-2022.3.1000901801/pythonFiles/vscode_datascience_helpers/jupyter_daemon.py\", line 108, in m_exec_module_observable\n",
      "    self._start_notebook(args, cwd, env)\n",
      "  File \"/Users/suryansh_rathore/.vscode/extensions/ms-toolsai.jupyter-2022.3.1000901801/pythonFiles/vscode_datascience_helpers/jupyter_daemon.py\", line 154, in _start_notebook\n",
      "    from notebook import notebookapp as app\n",
      "ImportError: cannot import name 'notebookapp' from 'notebook' (/Library/Frameworks/Python.framework/Versions/3.12/lib/python3.12/site-packages/notebook/__init__.py)\n",
      "\n",
      "Failed to run jupyter as observable with args notebook --no-browser --notebook-dir=\"/\" --KernelManager.autorestart=False --config=/var/folders/5l/txcqzb8500xdk0clddh8n3dm0000gn/T/fa1bbe74-0cac-4bbe-9aea-0397954f0798/jupyter_notebook_config.py --NotebookApp.iopub_data_rate_limit=10000000000.0. \n",
      "View Jupyter <a href='command:jupyter.viewOutput'>log</a> for further details."
     ]
    }
   ],
   "source": [
    "l_OC"
   ]
  },
  {
   "cell_type": "code",
   "execution_count": null,
   "id": "61a73618",
   "metadata": {},
   "outputs": [
    {
     "ename": "",
     "evalue": "",
     "output_type": "error",
     "traceback": [
      "\u001b[1;31mFailed to start the Kernel. \n",
      "Traceback (most recent call last):\n",
      "  File \"/Users/suryansh_rathore/.vscode/extensions/ms-toolsai.jupyter-2022.3.1000901801/pythonFiles/vscode_datascience_helpers/daemon/daemon_python.py\", line 54, in _decorator\n",
      "    return func(self, *args, **kwargs)\n",
      "           ^^^^^^^^^^^^^^^^^^^^^^^^^^^\n",
      "  File \"/Users/suryansh_rathore/.vscode/extensions/ms-toolsai.jupyter-2022.3.1000901801/pythonFiles/vscode_datascience_helpers/jupyter_daemon.py\", line 108, in m_exec_module_observable\n",
      "    self._start_notebook(args, cwd, env)\n",
      "  File \"/Users/suryansh_rathore/.vscode/extensions/ms-toolsai.jupyter-2022.3.1000901801/pythonFiles/vscode_datascience_helpers/jupyter_daemon.py\", line 154, in _start_notebook\n",
      "    from notebook import notebookapp as app\n",
      "ImportError: cannot import name 'notebookapp' from 'notebook' (/Library/Frameworks/Python.framework/Versions/3.12/lib/python3.12/site-packages/notebook/__init__.py)\n",
      "\n",
      "Failed to run jupyter as observable with args notebook --no-browser --notebook-dir=\"/\" --KernelManager.autorestart=False --config=/var/folders/5l/txcqzb8500xdk0clddh8n3dm0000gn/T/fa1bbe74-0cac-4bbe-9aea-0397954f0798/jupyter_notebook_config.py --NotebookApp.iopub_data_rate_limit=10000000000.0. \n",
      "View Jupyter <a href='command:jupyter.viewOutput'>log</a> for further details."
     ]
    }
   ],
   "source": [
    "OC_col = ['c_OI', 'c_CHNG_IN_OI', 'c_VOLUME', 'c_IV', 'c_LTP', 'c_CHNG', 'c_BID_QTY', 'c_BID', 'c_ASK', 'c_ASK_QTY',  'STRIKE', 'p_BID_QTY', 'p_BID', 'p_ASK', 'p_ASK_QTY',  'p_CHNG', 'p_LTP', 'p_IV', 'p_VOLUME', 'p_CHNG_IN_OI', 'p_OI'] "
   ]
  },
  {
   "cell_type": "code",
   "execution_count": null,
   "id": "fb85c899",
   "metadata": {},
   "outputs": [
    {
     "ename": "",
     "evalue": "",
     "output_type": "error",
     "traceback": [
      "\u001b[1;31mFailed to start the Kernel. \n",
      "Traceback (most recent call last):\n",
      "  File \"/Users/suryansh_rathore/.vscode/extensions/ms-toolsai.jupyter-2022.3.1000901801/pythonFiles/vscode_datascience_helpers/daemon/daemon_python.py\", line 54, in _decorator\n",
      "    return func(self, *args, **kwargs)\n",
      "           ^^^^^^^^^^^^^^^^^^^^^^^^^^^\n",
      "  File \"/Users/suryansh_rathore/.vscode/extensions/ms-toolsai.jupyter-2022.3.1000901801/pythonFiles/vscode_datascience_helpers/jupyter_daemon.py\", line 108, in m_exec_module_observable\n",
      "    self._start_notebook(args, cwd, env)\n",
      "  File \"/Users/suryansh_rathore/.vscode/extensions/ms-toolsai.jupyter-2022.3.1000901801/pythonFiles/vscode_datascience_helpers/jupyter_daemon.py\", line 154, in _start_notebook\n",
      "    from notebook import notebookapp as app\n",
      "ImportError: cannot import name 'notebookapp' from 'notebook' (/Library/Frameworks/Python.framework/Versions/3.12/lib/python3.12/site-packages/notebook/__init__.py)\n",
      "\n",
      "Failed to run jupyter as observable with args notebook --no-browser --notebook-dir=\"/\" --KernelManager.autorestart=False --config=/var/folders/5l/txcqzb8500xdk0clddh8n3dm0000gn/T/fa1bbe74-0cac-4bbe-9aea-0397954f0798/jupyter_notebook_config.py --NotebookApp.iopub_data_rate_limit=10000000000.0. \n",
      "View Jupyter <a href='command:jupyter.viewOutput'>log</a> for further details."
     ]
    }
   ],
   "source": [
    "pd.set_option('display.max_rows', None)\n",
    "pd.set_option('display.max_columns', None)\n",
    "df = pd.DataFrame(l_OC)\n",
    "df.columns = OC_col"
   ]
  },
  {
   "cell_type": "code",
   "execution_count": null,
   "id": "164887ed",
   "metadata": {},
   "outputs": [
    {
     "ename": "",
     "evalue": "",
     "output_type": "error",
     "traceback": [
      "\u001b[1;31mFailed to start the Kernel. \n",
      "Traceback (most recent call last):\n",
      "  File \"/Users/suryansh_rathore/.vscode/extensions/ms-toolsai.jupyter-2022.3.1000901801/pythonFiles/vscode_datascience_helpers/daemon/daemon_python.py\", line 54, in _decorator\n",
      "    return func(self, *args, **kwargs)\n",
      "           ^^^^^^^^^^^^^^^^^^^^^^^^^^^\n",
      "  File \"/Users/suryansh_rathore/.vscode/extensions/ms-toolsai.jupyter-2022.3.1000901801/pythonFiles/vscode_datascience_helpers/jupyter_daemon.py\", line 108, in m_exec_module_observable\n",
      "    self._start_notebook(args, cwd, env)\n",
      "  File \"/Users/suryansh_rathore/.vscode/extensions/ms-toolsai.jupyter-2022.3.1000901801/pythonFiles/vscode_datascience_helpers/jupyter_daemon.py\", line 154, in _start_notebook\n",
      "    from notebook import notebookapp as app\n",
      "ImportError: cannot import name 'notebookapp' from 'notebook' (/Library/Frameworks/Python.framework/Versions/3.12/lib/python3.12/site-packages/notebook/__init__.py)\n",
      "\n",
      "Failed to run jupyter as observable with args notebook --no-browser --notebook-dir=\"/\" --KernelManager.autorestart=False --config=/var/folders/5l/txcqzb8500xdk0clddh8n3dm0000gn/T/fa1bbe74-0cac-4bbe-9aea-0397954f0798/jupyter_notebook_config.py --NotebookApp.iopub_data_rate_limit=10000000000.0. \n",
      "View Jupyter <a href='command:jupyter.viewOutput'>log</a> for further details."
     ]
    }
   ],
   "source": [
    "%%HTML\n",
    "<style type=\"text/css\">\n",
    "    table.dataframe td, table.dataframe th {\n",
    "        border-style: solid;\n",
    "    }\n",
    "</style>"
   ]
  },
  {
   "cell_type": "code",
   "execution_count": null,
   "id": "48a5651f",
   "metadata": {},
   "outputs": [
    {
     "ename": "",
     "evalue": "",
     "output_type": "error",
     "traceback": [
      "\u001b[1;31mFailed to start the Kernel. \n",
      "Traceback (most recent call last):\n",
      "  File \"/Users/suryansh_rathore/.vscode/extensions/ms-toolsai.jupyter-2022.3.1000901801/pythonFiles/vscode_datascience_helpers/daemon/daemon_python.py\", line 54, in _decorator\n",
      "    return func(self, *args, **kwargs)\n",
      "           ^^^^^^^^^^^^^^^^^^^^^^^^^^^\n",
      "  File \"/Users/suryansh_rathore/.vscode/extensions/ms-toolsai.jupyter-2022.3.1000901801/pythonFiles/vscode_datascience_helpers/jupyter_daemon.py\", line 108, in m_exec_module_observable\n",
      "    self._start_notebook(args, cwd, env)\n",
      "  File \"/Users/suryansh_rathore/.vscode/extensions/ms-toolsai.jupyter-2022.3.1000901801/pythonFiles/vscode_datascience_helpers/jupyter_daemon.py\", line 154, in _start_notebook\n",
      "    from notebook import notebookapp as app\n",
      "ImportError: cannot import name 'notebookapp' from 'notebook' (/Library/Frameworks/Python.framework/Versions/3.12/lib/python3.12/site-packages/notebook/__init__.py)\n",
      "\n",
      "Failed to run jupyter as observable with args notebook --no-browser --notebook-dir=\"/\" --KernelManager.autorestart=False --config=/var/folders/5l/txcqzb8500xdk0clddh8n3dm0000gn/T/fa1bbe74-0cac-4bbe-9aea-0397954f0798/jupyter_notebook_config.py --NotebookApp.iopub_data_rate_limit=10000000000.0. \n",
      "View Jupyter <a href='command:jupyter.viewOutput'>log</a> for further details."
     ]
    }
   ],
   "source": [
    "df"
   ]
  },
  {
   "cell_type": "code",
   "execution_count": null,
   "id": "52aa0f2c",
   "metadata": {},
   "outputs": [
    {
     "ename": "",
     "evalue": "",
     "output_type": "error",
     "traceback": [
      "\u001b[1;31mFailed to start the Kernel. \n",
      "Traceback (most recent call last):\n",
      "  File \"/Users/suryansh_rathore/.vscode/extensions/ms-toolsai.jupyter-2022.3.1000901801/pythonFiles/vscode_datascience_helpers/daemon/daemon_python.py\", line 54, in _decorator\n",
      "    return func(self, *args, **kwargs)\n",
      "           ^^^^^^^^^^^^^^^^^^^^^^^^^^^\n",
      "  File \"/Users/suryansh_rathore/.vscode/extensions/ms-toolsai.jupyter-2022.3.1000901801/pythonFiles/vscode_datascience_helpers/jupyter_daemon.py\", line 108, in m_exec_module_observable\n",
      "    self._start_notebook(args, cwd, env)\n",
      "  File \"/Users/suryansh_rathore/.vscode/extensions/ms-toolsai.jupyter-2022.3.1000901801/pythonFiles/vscode_datascience_helpers/jupyter_daemon.py\", line 154, in _start_notebook\n",
      "    from notebook import notebookapp as app\n",
      "ImportError: cannot import name 'notebookapp' from 'notebook' (/Library/Frameworks/Python.framework/Versions/3.12/lib/python3.12/site-packages/notebook/__init__.py)\n",
      "\n",
      "Failed to run jupyter as observable with args notebook --no-browser --notebook-dir=\"/\" --KernelManager.autorestart=False --config=/var/folders/5l/txcqzb8500xdk0clddh8n3dm0000gn/T/fa1bbe74-0cac-4bbe-9aea-0397954f0798/jupyter_notebook_config.py --NotebookApp.iopub_data_rate_limit=10000000000.0. \n",
      "View Jupyter <a href='command:jupyter.viewOutput'>log</a> for further details."
     ]
    }
   ],
   "source": [
    "import pandas as pd\n",
    "import matplotlib.pyplot as plt\n",
    " \n",
    "# Read the CSV file into a DataFrame\n",
    "df = pd.read_csv('option_chain_data.csv')\n",
    " \n",
    "# Drop rows with missing values\n",
    "df = df.dropna()\n",
    " \n",
    "# Convert columns to numeric\n",
    "numeric_cols = ['c_OI', 'c_CHNG_IN_OI', 'c_VOLUME', 'c_IV', 'c_LTP', 'c_CHNG', 'c_BID_QTY', 'c_BID', 'c_ASK', 'c_ASK_QTY', 'p_BID_QTY', 'p_BID', 'p_ASK', 'p_ASK_QTY', 'p_CHNG', 'p_LTP', 'p_IV', 'p_VOLUME', 'p_CHNG_IN_OI', 'p_OI']\n",
    "df[numeric_cols] = df[numeric_cols].apply(pd.to_numeric, errors='coerce')\n",
    " \n",
    "# Plot the graph\n",
    "plt.figure(figsize=(14, 7))\n",
    "plt.plot(df['STRIKE'], df['c_OI'], label='Call Open Interest', marker='o')\n",
    "plt.plot(df['STRIKE'], df['p_OI'], label='Put Open Interest', marker='o')\n",
    "plt.xlabel('Strike Price')\n",
    "plt.ylabel('Open Interest')\n",
    "plt.title('Open Interest Analysis')\n",
    "plt.legend()\n",
    "plt.grid(True)\n",
    "plt.show()"
   ]
  },
  {
   "cell_type": "code",
   "execution_count": null,
   "id": "f934741a",
   "metadata": {},
   "outputs": [
    {
     "ename": "",
     "evalue": "",
     "output_type": "error",
     "traceback": [
      "\u001b[1;31mFailed to start the Kernel. \n",
      "Traceback (most recent call last):\n",
      "  File \"/Users/suryansh_rathore/.vscode/extensions/ms-toolsai.jupyter-2022.3.1000901801/pythonFiles/vscode_datascience_helpers/daemon/daemon_python.py\", line 54, in _decorator\n",
      "    return func(self, *args, **kwargs)\n",
      "           ^^^^^^^^^^^^^^^^^^^^^^^^^^^\n",
      "  File \"/Users/suryansh_rathore/.vscode/extensions/ms-toolsai.jupyter-2022.3.1000901801/pythonFiles/vscode_datascience_helpers/jupyter_daemon.py\", line 108, in m_exec_module_observable\n",
      "    self._start_notebook(args, cwd, env)\n",
      "  File \"/Users/suryansh_rathore/.vscode/extensions/ms-toolsai.jupyter-2022.3.1000901801/pythonFiles/vscode_datascience_helpers/jupyter_daemon.py\", line 154, in _start_notebook\n",
      "    from notebook import notebookapp as app\n",
      "ImportError: cannot import name 'notebookapp' from 'notebook' (/Library/Frameworks/Python.framework/Versions/3.12/lib/python3.12/site-packages/notebook/__init__.py)\n",
      "\n",
      "Failed to run jupyter as observable with args notebook --no-browser --notebook-dir=\"/\" --KernelManager.autorestart=False --config=/var/folders/5l/txcqzb8500xdk0clddh8n3dm0000gn/T/fa1bbe74-0cac-4bbe-9aea-0397954f0798/jupyter_notebook_config.py --NotebookApp.iopub_data_rate_limit=10000000000.0. \n",
      "View Jupyter <a href='command:jupyter.viewOutput'>log</a> for further details."
     ]
    }
   ],
   "source": [
    "import plotly.express as px\n",
    " \n",
    "# Create a long format DataFrame for Plotly\n",
    "df_long = df.melt(id_vars=['STRIKE'], var_name='Metric', value_name='Value')\n",
    " \n",
    "# Plot the graph\n",
    "fig = px.line(df_long, x='STRIKE', y='Value', color='Metric', title='Open Interest Analysis')\n",
    "fig.show()"
   ]
  }
 ],
 "metadata": {
  "kernelspec": {
   "display_name": "Python 3 (ipykernel)",
   "language": "python",
   "name": "python3"
  },
  "language_info": {
   "codemirror_mode": {
    "name": "ipython",
    "version": 3
   },
   "file_extension": ".py",
   "mimetype": "text/x-python",
   "name": "python",
   "nbconvert_exporter": "python",
   "pygments_lexer": "ipython3",
   "version": "3.12.1"
  },
  "widgets": {
   "application/vnd.jupyter.widget-state+json": {
    "state": {},
    "version_major": 2,
    "version_minor": 0
   }
  }
 },
 "nbformat": 4,
 "nbformat_minor": 5
}
